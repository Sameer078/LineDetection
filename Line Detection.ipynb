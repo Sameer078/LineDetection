{
 "cells": [
  {
   "cell_type": "code",
   "execution_count": 1,
   "id": "165ec06c",
   "metadata": {},
   "outputs": [],
   "source": [
    "import cv2\n",
    "import numpy as np"
   ]
  },
  {
   "cell_type": "code",
   "execution_count": 2,
   "id": "efe7d513",
   "metadata": {},
   "outputs": [],
   "source": [
    "# Read image\n",
    "img = cv2.imread(\"C:/Users/user/Desktop/chess.jpg\")"
   ]
  },
  {
   "cell_type": "code",
   "execution_count": 3,
   "id": "505e340a",
   "metadata": {},
   "outputs": [],
   "source": [
    "# Convert image to grayscale\n",
    "gray = cv2.cvtColor(img, cv2.COLOR_BGR2GRAY)"
   ]
  },
  {
   "cell_type": "code",
   "execution_count": 4,
   "id": "046e0e69",
   "metadata": {},
   "outputs": [],
   "source": [
    "# Use canny edge detection\n",
    "edges = cv2.Canny(gray, 75, 150)"
   ]
  },
  {
   "cell_type": "code",
   "execution_count": 5,
   "id": "2352d76e",
   "metadata": {},
   "outputs": [],
   "source": [
    "# Apply HoughLinesP method to directly obtain line end points\n",
    "lines = cv2.HoughLinesP(edges, 1, np.pi/180, 30, maxLineGap=250)"
   ]
  },
  {
   "cell_type": "code",
   "execution_count": null,
   "id": "6d568c4d",
   "metadata": {},
   "outputs": [],
   "source": [
    "# Iterate over points\n",
    "for line in lines:\n",
    "    # Extracted points nested in the list\n",
    "   x1, y1, x2, y2 = line[0]\n",
    "   cv2.line(img, (x1, y1), (x2, y2), (0, 0, 128), 1)\n",
    "cv2.imshow(\"linesEdges\", edges)\n",
    "cv2.imshow(\"linesDetected\", img)\n",
    "cv2.imwrite('detectedLines.png',img)\n",
    "cv2.waitKey(0)\n",
    "cv2.destroyAllWindows()"
   ]
  },
  {
   "cell_type": "code",
   "execution_count": null,
   "id": "8769b000",
   "metadata": {},
   "outputs": [],
   "source": []
  }
 ],
 "metadata": {
  "kernelspec": {
   "display_name": "Python 3 (ipykernel)",
   "language": "python",
   "name": "python3"
  },
  "language_info": {
   "codemirror_mode": {
    "name": "ipython",
    "version": 3
   },
   "file_extension": ".py",
   "mimetype": "text/x-python",
   "name": "python",
   "nbconvert_exporter": "python",
   "pygments_lexer": "ipython3",
   "version": "3.11.2"
  }
 },
 "nbformat": 4,
 "nbformat_minor": 5
}
